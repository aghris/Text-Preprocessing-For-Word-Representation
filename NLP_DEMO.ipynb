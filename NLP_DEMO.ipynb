{
  "nbformat": 4,
  "nbformat_minor": 0,
  "metadata": {
    "colab": {
      "name": "NLP_DEMO.ipynb",
      "provenance": [],
      "collapsed_sections": []
    },
    "kernelspec": {
      "name": "python3",
      "display_name": "Python 3"
    },
    "language_info": {
      "name": "python"
    }
  },
  "cells": [
    {
      "cell_type": "markdown",
      "metadata": {
        "id": "beXl8OeN4oEY"
      },
      "source": [
        "#  <h1><center>A Comprehensive Analysis of Preprocessing for Word Representation Learning in Affective Tasks Implementation</center></h1>"
      ]
    },
    {
      "cell_type": "markdown",
      "metadata": {
        "id": "j26fdhzl443X"
      },
      "source": [
        "In this work, we implement four text processing techniques namely, stopword removal, Stemming and Post tagg then, we apply it to the training corpus before the models start to learn the word embedding. In first place, we perform each tool individually to evaluate its effect on the performance results then, in second place we use all the processing factors together. On other hand, we incorporate only basic processing into the text used as input for the classification.\n",
        "Implementing negation and Spellercheck techniques requires constracting the antonym dictionary and the customized dictionary of correction, which takes to much time. We will not implement them, but since we are working on an affective task we remove negation expression from stop word list such as 'no', 'never', 'neither'...\n",
        "Due to the performance limit of our machines we used only two word embedding models: CBOW and Skip-gram. For the training corpus, we took only one third of the News articles."
      ]
    },
    {
      "cell_type": "markdown",
      "metadata": {
        "id": "ZNCBYdijbj9V"
      },
      "source": [
        "# Import Librairies"
      ]
    },
    {
      "cell_type": "code",
      "metadata": {
        "id": "FSOJVahF1xQM"
      },
      "source": [
        "import pandas as pd\n",
        "import numpy as np\n",
        "import re\n",
        "import nltk\n",
        "from nltk.corpus import stopwords\n",
        "from keras.layers import Input, Embedding, LSTM, Dense\n",
        "from keras.preprocessing.sequence import pad_sequences\n",
        "from keras.models import Sequential\n",
        "from keras.layers.core import Activation, Dropout, Dense\n",
        "from keras.layers import Flatten\n",
        "from keras.layers import GlobalMaxPooling1D\n",
        "from keras.layers.embeddings import Embedding\n",
        "from sklearn.model_selection import train_test_split\n",
        "from keras.preprocessing.text import Tokenizer\n",
        "from nltk.tokenize import word_tokenize\n",
        "import gc\n",
        "from numpy import array\n",
        "from numpy import asarray\n",
        "from numpy import zeros\n",
        "from gensim.models import Word2Vec\n",
        "from keras.callbacks import EarlyStopping\n",
        "from keras.callbacks import ModelCheckpoint\n",
        "from sklearn.metrics import accuracy_score\n",
        "from sklearn.metrics import precision_score\n",
        "from sklearn.metrics import recall_score\n",
        "from sklearn.metrics import f1_score\n",
        "from sklearn.metrics import cohen_kappa_score\n",
        "from sklearn.metrics import roc_auc_score\n",
        "from sklearn.metrics import confusion_matrix\n",
        "from keras.models import load_model"
      ],
      "execution_count": 2,
      "outputs": []
    },
    {
      "cell_type": "markdown",
      "metadata": {
        "id": "ubpe3p8abqOI"
      },
      "source": [
        "# Helper Functions"
      ]
    },
    {
      "cell_type": "code",
      "metadata": {
        "id": "StecRdK0-J6u"
      },
      "source": [
        "def embeddings(path):\n",
        "  embeddings_dictionary = dict()\n",
        "  glove_file = open(path, encoding=\"utf8\")\n",
        "\n",
        "  for line in glove_file:\n",
        "      records = line.split()\n",
        "      word = records[0]\n",
        "      vector_dimensions = asarray(records[1:])\n",
        "      embeddings_dictionary [word] = vector_dimensions\n",
        "  glove_file.close()\n",
        "  embedding_matrix = zeros((vocab_size, 300))\n",
        "  for word, index in tokenizer.word_index.items():\n",
        "      embedding_vector = embeddings_dictionary.get(word)\n",
        "      if embedding_vector is not None:\n",
        "          embedding_matrix[index] = embedding_vector\n",
        "  return embedding_matrix"
      ],
      "execution_count": null,
      "outputs": []
    },
    {
      "cell_type": "code",
      "metadata": {
        "id": "gBVUJdrFHx5U"
      },
      "source": [
        "def get_model(X_train, y_train, embedding_matrix, name):\n",
        "  model = Sequential()\n",
        "  embedding_layer = Embedding(vocab_size, 300, weights=[embedding_matrix], input_length=maxlen , trainable=False)\n",
        "  model.add(embedding_layer)\n",
        "  model.add(LSTM(128))\n",
        "  model.add(Dense(1, activation='sigmoid'))\n",
        "  model.compile(optimizer='adam', loss='binary_crossentropy', metrics=['acc'])\n",
        "  es = EarlyStopping(monitor='val_loss', mode='min', verbose=1, patience=10)\n",
        "  path = \"../Weights/\"+name+\".h5\"\n",
        "  mc = ModelCheckpoint(path, monitor='val_acc',\n",
        "                       mode='max', verbose=1, save_best_only=True)\n",
        "\t# fit model\n",
        "  model.fit(X_train, y_train, batch_size=128, epochs=10000, verbose=1, validation_split=0.10, callbacks=[es, mc])\n",
        "  return model, path\n"
      ],
      "execution_count": null,
      "outputs": []
    },
    {
      "cell_type": "code",
      "metadata": {
        "id": "wepXyPFjVaZ3"
      },
      "source": [
        "def eval_model(path):\n",
        "  saved_model =  load_model(path)\n",
        "  yhat_probs = saved_model.predict(X_test, verbose=1)\n",
        "  # predict crisp classes for test set\n",
        "  yhat_classes = saved_model.predict_classes(X_test, verbose=1)\n",
        "  # reduce to 1d array\n",
        "  yhat_probs = yhat_probs[:, 0]\n",
        "  yhat_classes = yhat_classes[:, 0]\n",
        "  \n",
        "  # accuracy: (tp + tn) / (p + n)\n",
        "  accuracy = accuracy_score(y_test, yhat_classes)\n",
        "  print('Accuracy: %f' % accuracy)\n",
        "  # precision tp / (tp + fp)\n",
        "  precision = precision_score(y_test, yhat_classes)\n",
        "  print('Precision: %f' % precision)\n",
        "  # recall: tp / (tp + fn)\n",
        "  recall = recall_score(y_test, yhat_classes)\n",
        "  print('Recall: %f' % recall)\n",
        "  # f1: 2 tp / (2 tp + fp + fn)\n",
        "  f1 = f1_score(y_test, yhat_classes)\n",
        "  print('F1 score: %f' % f1)"
      ],
      "execution_count": null,
      "outputs": []
    },
    {
      "cell_type": "markdown",
      "metadata": {
        "id": "rnHzO4Lhbz4s"
      },
      "source": [
        "# Data Preparation"
      ]
    },
    {
      "cell_type": "code",
      "metadata": {
        "id": "z1_42CNz26UN"
      },
      "source": [
        "path = \"../data/IMDB Dataset.csv\"\n",
        "movie_reviews = pd.read_csv(path)"
      ],
      "execution_count": null,
      "outputs": []
    },
    {
      "cell_type": "code",
      "metadata": {
        "colab": {
          "base_uri": "https://localhost:8080/",
          "height": 197
        },
        "id": "MGJb-UR22_n9",
        "outputId": "061c920b-d140-410a-d5a9-a2cb2f7aa780"
      },
      "source": [
        "movie_reviews.head()"
      ],
      "execution_count": null,
      "outputs": [
        {
          "output_type": "execute_result",
          "data": {
            "text/html": [
              "<div>\n",
              "<style scoped>\n",
              "    .dataframe tbody tr th:only-of-type {\n",
              "        vertical-align: middle;\n",
              "    }\n",
              "\n",
              "    .dataframe tbody tr th {\n",
              "        vertical-align: top;\n",
              "    }\n",
              "\n",
              "    .dataframe thead th {\n",
              "        text-align: right;\n",
              "    }\n",
              "</style>\n",
              "<table border=\"1\" class=\"dataframe\">\n",
              "  <thead>\n",
              "    <tr style=\"text-align: right;\">\n",
              "      <th></th>\n",
              "      <th>review</th>\n",
              "      <th>sentiment</th>\n",
              "    </tr>\n",
              "  </thead>\n",
              "  <tbody>\n",
              "    <tr>\n",
              "      <th>0</th>\n",
              "      <td>One of the other reviewers has mentioned that ...</td>\n",
              "      <td>positive</td>\n",
              "    </tr>\n",
              "    <tr>\n",
              "      <th>1</th>\n",
              "      <td>A wonderful little production. &lt;br /&gt;&lt;br /&gt;The...</td>\n",
              "      <td>positive</td>\n",
              "    </tr>\n",
              "    <tr>\n",
              "      <th>2</th>\n",
              "      <td>I thought this was a wonderful way to spend ti...</td>\n",
              "      <td>positive</td>\n",
              "    </tr>\n",
              "    <tr>\n",
              "      <th>3</th>\n",
              "      <td>Basically there's a family where a little boy ...</td>\n",
              "      <td>negative</td>\n",
              "    </tr>\n",
              "    <tr>\n",
              "      <th>4</th>\n",
              "      <td>Petter Mattei's \"Love in the Time of Money\" is...</td>\n",
              "      <td>positive</td>\n",
              "    </tr>\n",
              "  </tbody>\n",
              "</table>\n",
              "</div>"
            ],
            "text/plain": [
              "                                              review sentiment\n",
              "0  One of the other reviewers has mentioned that ...  positive\n",
              "1  A wonderful little production. <br /><br />The...  positive\n",
              "2  I thought this was a wonderful way to spend ti...  positive\n",
              "3  Basically there's a family where a little boy ...  negative\n",
              "4  Petter Mattei's \"Love in the Time of Money\" is...  positive"
            ]
          },
          "metadata": {
            "tags": []
          },
          "execution_count": 4
        }
      ]
    },
    {
      "cell_type": "code",
      "metadata": {
        "colab": {
          "base_uri": "https://localhost:8080/"
        },
        "id": "HA-9ydrp3BvD",
        "outputId": "2eccb2f8-be2b-4c77-ee34-775e959c8b60"
      },
      "source": [
        "movie_reviews.sentiment.value_counts()"
      ],
      "execution_count": null,
      "outputs": [
        {
          "output_type": "execute_result",
          "data": {
            "text/plain": [
              "positive    25000\n",
              "negative    25000\n",
              "Name: sentiment, dtype: int64"
            ]
          },
          "metadata": {
            "tags": []
          },
          "execution_count": 5
        }
      ]
    },
    {
      "cell_type": "code",
      "metadata": {
        "id": "wYZv8BML3FNr"
      },
      "source": [
        "text= movie_reviews['review']\n",
        "X=text.values.tolist()"
      ],
      "execution_count": null,
      "outputs": []
    },
    {
      "cell_type": "code",
      "metadata": {
        "id": "dvDsreUc3UGw"
      },
      "source": [
        "def majid(X):\n",
        "    corpus = []\n",
        "    for i in range(0, len(X)):\n",
        "        #review = re.sub(r'[@%\\\\*=()/~#&\\+á?\\xc3\\xa1\\-\\|\\.\\:\\;\\!\\-\\,\\_\\~\\$\\'\\\"]', '',str(X[i])) #remove punctuation\n",
        "        review = re.sub(r'\\d+',' ', str(X[i]))# remove number\n",
        "        review = review.lower() #lower case\n",
        "        review = re.sub(r'\\s+', ' ', review) #remove extra space\n",
        "        review = re.sub(r'<[^>]+>','',review) #remove Html tags\n",
        "        review = re.sub(r'\\s+', ' ', review) #remove spaces\n",
        "        review = re.sub(r\"^\\s+\", '', review) #remove space from start\n",
        "        review = re.sub(r'\\s+$', '', review) #remove space from the end\n",
        "        corpus.append(review)        \n",
        "#    return corpus        \n",
        "    #Tokenizing and Word Count  \n",
        "    words=[]\n",
        "    for i in range(len(corpus)):\n",
        "        words= nltk.word_tokenize(corpus[i])\n",
        "        #sentences.append(words)\n",
        "   \n",
        "    return words"
      ],
      "execution_count": null,
      "outputs": []
    },
    {
      "cell_type": "code",
      "metadata": {
        "id": "QILXSXv23aF9"
      },
      "source": [
        "X = [[el] for el in X] \n",
        "\n",
        "from joblib import Parallel, delayed\n",
        "import multiprocessing"
      ],
      "execution_count": null,
      "outputs": []
    },
    {
      "cell_type": "code",
      "metadata": {
        "colab": {
          "base_uri": "https://localhost:8080/"
        },
        "id": "iF4Ms5ku3gJ7",
        "outputId": "f1711d4b-551f-4245-cb6c-d55114ffa38c"
      },
      "source": [
        "import nltk\n",
        "nltk.download('punkt')"
      ],
      "execution_count": null,
      "outputs": [
        {
          "output_type": "stream",
          "text": [
            "[nltk_data] Downloading package punkt to /root/nltk_data...\n",
            "[nltk_data]   Unzipping tokenizers/punkt.zip.\n"
          ],
          "name": "stdout"
        },
        {
          "output_type": "execute_result",
          "data": {
            "text/plain": [
              "True"
            ]
          },
          "metadata": {
            "tags": []
          },
          "execution_count": 9
        }
      ]
    },
    {
      "cell_type": "code",
      "metadata": {
        "id": "XCff59bq3bmP"
      },
      "source": [
        "num_cores = multiprocessing.cpu_count()\n",
        "sentences = Parallel(n_jobs=num_cores)(delayed(majid)(i) for i in X)"
      ],
      "execution_count": null,
      "outputs": []
    },
    {
      "cell_type": "code",
      "metadata": {
        "id": "-D-bh1Cm4IK9"
      },
      "source": [
        "X = [' '.join(x) for x in sentences]\n",
        "y = movie_reviews['sentiment']\n",
        "y = np.array(list(map(lambda x: 1 if x==\"positive\" else 0, y)))"
      ],
      "execution_count": null,
      "outputs": []
    },
    {
      "cell_type": "code",
      "metadata": {
        "colab": {
          "base_uri": "https://localhost:8080/"
        },
        "id": "kgaWbmq29v7U",
        "outputId": "536a2a72-c4e6-4b32-f3e7-d9eacf03a7f3"
      },
      "source": [
        "X_train, X_test, y_train, y_test = train_test_split(X, y, test_size=0.20, random_state=42)\n",
        "tokenizer = Tokenizer(num_words=5000)\n",
        "tokenizer.fit_on_texts(X_train)\n",
        "X_train = tokenizer.texts_to_sequences(X_train)\n",
        "X_test = tokenizer.texts_to_sequences(X_test)\n",
        "# Adding 1 because of reserved 0 index\n",
        "vocab_size = len(tokenizer.word_index) + 1\n",
        "print('Vocab size:',vocab_size)\n",
        "maxlen = 100\n",
        "\n",
        "X_train = pad_sequences(X_train, padding='post', maxlen=maxlen)\n",
        "X_test = pad_sequences(X_test, padding='post', maxlen=maxlen)"
      ],
      "execution_count": null,
      "outputs": [
        {
          "output_type": "stream",
          "text": [
            "Vocab size: 98434\n"
          ],
          "name": "stdout"
        }
      ]
    },
    {
      "cell_type": "markdown",
      "metadata": {
        "id": "UImV00LWKfHU"
      },
      "source": [
        "# Stemming"
      ]
    },
    {
      "cell_type": "code",
      "metadata": {
        "id": "uQcsT5dieI4m"
      },
      "source": [
        "# Embeddings path\n",
        "path_emb = \"../Embeddings/\""
      ],
      "execution_count": null,
      "outputs": []
    },
    {
      "cell_type": "code",
      "metadata": {
        "colab": {
          "base_uri": "https://localhost:8080/"
        },
        "id": "KOoMI0ieH44Y",
        "outputId": "7d0041cd-f5e0-4262-de0a-88c7626448f5"
      },
      "source": [
        "embedding_matrix = embeddings(path_emb + \"W-Skip-Stem.txt\")\n",
        "model, path = get_model(X_train, y_train, embedding_matrix, path.split(\"/\")[-1].split(\".\")[0])"
      ],
      "execution_count": null,
      "outputs": [
        {
          "output_type": "stream",
          "text": [
            "Epoch 1/10000\n",
            "282/282 [==============================] - 6s 17ms/step - loss: 0.6481 - acc: 0.6044 - val_loss: 0.5429 - val_acc: 0.7230\n",
            "\n",
            "Epoch 00001: val_acc improved from -inf to 0.72300, saving model to /content/drive/MyDrive/NLP/W-Skip-Stem.h5\n",
            "Epoch 2/10000\n",
            "282/282 [==============================] - 4s 15ms/step - loss: 0.5155 - acc: 0.7458 - val_loss: 0.4757 - val_acc: 0.7720\n",
            "\n",
            "Epoch 00002: val_acc improved from 0.72300 to 0.77200, saving model to /content/drive/MyDrive/NLP/W-Skip-Stem.h5\n",
            "Epoch 3/10000\n",
            "282/282 [==============================] - 4s 15ms/step - loss: 0.4725 - acc: 0.7769 - val_loss: 0.4652 - val_acc: 0.7720\n",
            "\n",
            "Epoch 00003: val_acc did not improve from 0.77200\n",
            "Epoch 4/10000\n",
            "282/282 [==============================] - 4s 15ms/step - loss: 0.4470 - acc: 0.7933 - val_loss: 0.4611 - val_acc: 0.7828\n",
            "\n",
            "Epoch 00004: val_acc improved from 0.77200 to 0.78275, saving model to /content/drive/MyDrive/NLP/W-Skip-Stem.h5\n",
            "Epoch 5/10000\n",
            "282/282 [==============================] - 4s 15ms/step - loss: 0.4170 - acc: 0.8073 - val_loss: 0.4164 - val_acc: 0.8035\n",
            "\n",
            "Epoch 00005: val_acc improved from 0.78275 to 0.80350, saving model to /content/drive/MyDrive/NLP/W-Skip-Stem.h5\n",
            "Epoch 6/10000\n",
            "282/282 [==============================] - 4s 15ms/step - loss: 0.3914 - acc: 0.8228 - val_loss: 0.4243 - val_acc: 0.8033\n",
            "\n",
            "Epoch 00006: val_acc did not improve from 0.80350\n",
            "Epoch 7/10000\n",
            "282/282 [==============================] - 4s 16ms/step - loss: 0.3701 - acc: 0.8349 - val_loss: 0.4245 - val_acc: 0.8020\n",
            "\n",
            "Epoch 00007: val_acc did not improve from 0.80350\n",
            "Epoch 8/10000\n",
            "282/282 [==============================] - 4s 15ms/step - loss: 0.3446 - acc: 0.8489 - val_loss: 0.4127 - val_acc: 0.8115\n",
            "\n",
            "Epoch 00008: val_acc improved from 0.80350 to 0.81150, saving model to /content/drive/MyDrive/NLP/W-Skip-Stem.h5\n",
            "Epoch 9/10000\n",
            "282/282 [==============================] - 4s 15ms/step - loss: 0.3257 - acc: 0.8577 - val_loss: 0.4148 - val_acc: 0.8130\n",
            "\n",
            "Epoch 00009: val_acc improved from 0.81150 to 0.81300, saving model to /content/drive/MyDrive/NLP/W-Skip-Stem.h5\n",
            "Epoch 10/10000\n",
            "282/282 [==============================] - 4s 15ms/step - loss: 0.2846 - acc: 0.8760 - val_loss: 0.4177 - val_acc: 0.8087\n",
            "\n",
            "Epoch 00010: val_acc did not improve from 0.81300\n",
            "Epoch 11/10000\n",
            "282/282 [==============================] - 4s 15ms/step - loss: 0.2679 - acc: 0.8873 - val_loss: 0.4355 - val_acc: 0.8140\n",
            "\n",
            "Epoch 00011: val_acc improved from 0.81300 to 0.81400, saving model to /content/drive/MyDrive/NLP/W-Skip-Stem.h5\n",
            "Epoch 12/10000\n",
            "282/282 [==============================] - 4s 15ms/step - loss: 0.2304 - acc: 0.9056 - val_loss: 0.4511 - val_acc: 0.8073\n",
            "\n",
            "Epoch 00012: val_acc did not improve from 0.81400\n",
            "Epoch 13/10000\n",
            "282/282 [==============================] - 4s 16ms/step - loss: 0.1989 - acc: 0.9207 - val_loss: 0.4821 - val_acc: 0.8077\n",
            "\n",
            "Epoch 00013: val_acc did not improve from 0.81400\n",
            "Epoch 14/10000\n",
            "282/282 [==============================] - 4s 15ms/step - loss: 0.1689 - acc: 0.9344 - val_loss: 0.5316 - val_acc: 0.8083\n",
            "\n",
            "Epoch 00014: val_acc did not improve from 0.81400\n",
            "Epoch 15/10000\n",
            "282/282 [==============================] - 4s 15ms/step - loss: 0.1362 - acc: 0.9500 - val_loss: 0.6391 - val_acc: 0.8005\n",
            "\n",
            "Epoch 00015: val_acc did not improve from 0.81400\n",
            "Epoch 16/10000\n",
            "282/282 [==============================] - 4s 15ms/step - loss: 0.1204 - acc: 0.9569 - val_loss: 0.6108 - val_acc: 0.8033\n",
            "\n",
            "Epoch 00016: val_acc did not improve from 0.81400\n",
            "Epoch 17/10000\n",
            "282/282 [==============================] - 4s 15ms/step - loss: 0.0929 - acc: 0.9689 - val_loss: 0.7219 - val_acc: 0.7987\n",
            "\n",
            "Epoch 00017: val_acc did not improve from 0.81400\n",
            "Epoch 18/10000\n",
            "282/282 [==============================] - 4s 15ms/step - loss: 0.0804 - acc: 0.9734 - val_loss: 0.7881 - val_acc: 0.7997\n",
            "\n",
            "Epoch 00018: val_acc did not improve from 0.81400\n",
            "Epoch 00018: early stopping\n"
          ],
          "name": "stdout"
        }
      ]
    },
    {
      "cell_type": "code",
      "metadata": {
        "colab": {
          "base_uri": "https://localhost:8080/"
        },
        "id": "jJNCQ1cQQIbX",
        "outputId": "0b77e077-13b6-4903-aa5a-e620b57f081d"
      },
      "source": [
        "eval_model(path)"
      ],
      "execution_count": null,
      "outputs": [
        {
          "output_type": "stream",
          "text": [
            "313/313 [==============================] - 2s 4ms/step\n",
            " 39/313 [==>...........................] - ETA: 1s"
          ],
          "name": "stdout"
        },
        {
          "output_type": "stream",
          "text": [
            "/usr/local/lib/python3.7/dist-packages/tensorflow/python/keras/engine/sequential.py:450: UserWarning: `model.predict_classes()` is deprecated and will be removed after 2021-01-01. Please use instead:* `np.argmax(model.predict(x), axis=-1)`,   if your model does multi-class classification   (e.g. if it uses a `softmax` last-layer activation).* `(model.predict(x) > 0.5).astype(\"int32\")`,   if your model does binary classification   (e.g. if it uses a `sigmoid` last-layer activation).\n",
            "  warnings.warn('`model.predict_classes()` is deprecated and '\n"
          ],
          "name": "stderr"
        },
        {
          "output_type": "stream",
          "text": [
            "313/313 [==============================] - 1s 4ms/step\n",
            "Accuracy: 0.821800\n",
            "Precision: 0.816152\n",
            "Recall: 0.834293\n",
            "F1 score: 0.825123\n"
          ],
          "name": "stdout"
        }
      ]
    },
    {
      "cell_type": "code",
      "metadata": {
        "colab": {
          "base_uri": "https://localhost:8080/"
        },
        "id": "xRxYYwWWQrmg",
        "outputId": "95d6b272-2be2-49c4-cce0-87c4e916da28"
      },
      "source": [
        "embedding_matrix = embeddings(path_emb + \"W-CBOW-Stem.txt\")\n",
        "model, path = get_model(X_train, y_train, embedding_matrix, path.split(\"/\")[-1].split(\".\")[0])"
      ],
      "execution_count": null,
      "outputs": [
        {
          "output_type": "stream",
          "text": [
            "Epoch 1/10000\n",
            "282/282 [==============================] - 6s 17ms/step - loss: 0.6159 - acc: 0.6482 - val_loss: 0.5126 - val_acc: 0.7577\n",
            "\n",
            "Epoch 00001: val_acc improved from -inf to 0.75775, saving model to /content/drive/MyDrive/NLP/W-CBOW-Stem.h5\n",
            "Epoch 2/10000\n",
            "282/282 [==============================] - 4s 15ms/step - loss: 0.4828 - acc: 0.7701 - val_loss: 0.4771 - val_acc: 0.7740\n",
            "\n",
            "Epoch 00002: val_acc improved from 0.75775 to 0.77400, saving model to /content/drive/MyDrive/NLP/W-CBOW-Stem.h5\n",
            "Epoch 3/10000\n",
            "282/282 [==============================] - 4s 15ms/step - loss: 0.4391 - acc: 0.7941 - val_loss: 0.4441 - val_acc: 0.7983\n",
            "\n",
            "Epoch 00003: val_acc improved from 0.77400 to 0.79825, saving model to /content/drive/MyDrive/NLP/W-CBOW-Stem.h5\n",
            "Epoch 4/10000\n",
            "282/282 [==============================] - 4s 15ms/step - loss: 0.4094 - acc: 0.8150 - val_loss: 0.4569 - val_acc: 0.7975\n",
            "\n",
            "Epoch 00004: val_acc did not improve from 0.79825\n",
            "Epoch 5/10000\n",
            "282/282 [==============================] - 4s 15ms/step - loss: 0.3759 - acc: 0.8308 - val_loss: 0.4133 - val_acc: 0.8163\n",
            "\n",
            "Epoch 00005: val_acc improved from 0.79825 to 0.81625, saving model to /content/drive/MyDrive/NLP/W-CBOW-Stem.h5\n",
            "Epoch 6/10000\n",
            "282/282 [==============================] - 4s 15ms/step - loss: 0.3443 - acc: 0.8498 - val_loss: 0.4038 - val_acc: 0.8165\n",
            "\n",
            "Epoch 00006: val_acc improved from 0.81625 to 0.81650, saving model to /content/drive/MyDrive/NLP/W-CBOW-Stem.h5\n",
            "Epoch 7/10000\n",
            "282/282 [==============================] - 4s 15ms/step - loss: 0.3042 - acc: 0.8700 - val_loss: 0.4142 - val_acc: 0.8155\n",
            "\n",
            "Epoch 00007: val_acc did not improve from 0.81650\n",
            "Epoch 8/10000\n",
            "282/282 [==============================] - 4s 16ms/step - loss: 0.2840 - acc: 0.8805 - val_loss: 0.4464 - val_acc: 0.7968\n",
            "\n",
            "Epoch 00008: val_acc did not improve from 0.81650\n",
            "Epoch 9/10000\n",
            "282/282 [==============================] - 4s 15ms/step - loss: 0.2507 - acc: 0.8975 - val_loss: 0.4399 - val_acc: 0.8135\n",
            "\n",
            "Epoch 00009: val_acc did not improve from 0.81650\n",
            "Epoch 10/10000\n",
            "282/282 [==============================] - 4s 15ms/step - loss: 0.2175 - acc: 0.9107 - val_loss: 0.4834 - val_acc: 0.8175\n",
            "\n",
            "Epoch 00010: val_acc improved from 0.81650 to 0.81750, saving model to /content/drive/MyDrive/NLP/W-CBOW-Stem.h5\n",
            "Epoch 11/10000\n",
            "282/282 [==============================] - 4s 15ms/step - loss: 0.1781 - acc: 0.9307 - val_loss: 0.4848 - val_acc: 0.8202\n",
            "\n",
            "Epoch 00011: val_acc improved from 0.81750 to 0.82025, saving model to /content/drive/MyDrive/NLP/W-CBOW-Stem.h5\n",
            "Epoch 12/10000\n",
            "282/282 [==============================] - 4s 15ms/step - loss: 0.1424 - acc: 0.9470 - val_loss: 0.6148 - val_acc: 0.8025\n",
            "\n",
            "Epoch 00012: val_acc did not improve from 0.82025\n",
            "Epoch 13/10000\n",
            "282/282 [==============================] - 4s 15ms/step - loss: 0.1124 - acc: 0.9601 - val_loss: 0.6597 - val_acc: 0.7935\n",
            "\n",
            "Epoch 00013: val_acc did not improve from 0.82025\n",
            "Epoch 14/10000\n",
            "282/282 [==============================] - 4s 16ms/step - loss: 0.0933 - acc: 0.9666 - val_loss: 0.6426 - val_acc: 0.8125\n",
            "\n",
            "Epoch 00014: val_acc did not improve from 0.82025\n",
            "Epoch 15/10000\n",
            "282/282 [==============================] - 4s 15ms/step - loss: 0.0734 - acc: 0.9772 - val_loss: 0.7535 - val_acc: 0.8040\n",
            "\n",
            "Epoch 00015: val_acc did not improve from 0.82025\n",
            "Epoch 16/10000\n",
            "282/282 [==============================] - 4s 15ms/step - loss: 0.0688 - acc: 0.9776 - val_loss: 0.7800 - val_acc: 0.7983\n",
            "\n",
            "Epoch 00016: val_acc did not improve from 0.82025\n",
            "Epoch 00016: early stopping\n"
          ],
          "name": "stdout"
        }
      ]
    },
    {
      "cell_type": "code",
      "metadata": {
        "colab": {
          "base_uri": "https://localhost:8080/"
        },
        "id": "-_S_LUk4W7cn",
        "outputId": "d8d88b11-c726-4474-9762-8e9c85035a66"
      },
      "source": [
        "eval_model(path)"
      ],
      "execution_count": null,
      "outputs": [
        {
          "output_type": "stream",
          "text": [
            "313/313 [==============================] - 2s 4ms/step\n",
            " 40/313 [==>...........................] - ETA: 1s"
          ],
          "name": "stdout"
        },
        {
          "output_type": "stream",
          "text": [
            "/usr/local/lib/python3.7/dist-packages/tensorflow/python/keras/engine/sequential.py:450: UserWarning: `model.predict_classes()` is deprecated and will be removed after 2021-01-01. Please use instead:* `np.argmax(model.predict(x), axis=-1)`,   if your model does multi-class classification   (e.g. if it uses a `softmax` last-layer activation).* `(model.predict(x) > 0.5).astype(\"int32\")`,   if your model does binary classification   (e.g. if it uses a `sigmoid` last-layer activation).\n",
            "  warnings.warn('`model.predict_classes()` is deprecated and '\n"
          ],
          "name": "stderr"
        },
        {
          "output_type": "stream",
          "text": [
            "313/313 [==============================] - 1s 4ms/step\n",
            "Accuracy: 0.823000\n",
            "Precision: 0.819301\n",
            "Recall: 0.832308\n",
            "F1 score: 0.825753\n"
          ],
          "name": "stdout"
        }
      ]
    },
    {
      "cell_type": "markdown",
      "metadata": {
        "id": "DrnEZ7bk-nfC"
      },
      "source": [
        "We note ,in the case of applying only stemming, that the embedding generated using CBOW and Skip gram leads almost to the same results in the classification task."
      ]
    },
    {
      "cell_type": "markdown",
      "metadata": {
        "id": "6m4N5Z94g1Sq"
      },
      "source": [
        "# Punctuation"
      ]
    },
    {
      "cell_type": "code",
      "metadata": {
        "colab": {
          "base_uri": "https://localhost:8080/"
        },
        "id": "4RvvT1RWg28L",
        "outputId": "7d204027-c03e-41ce-b3a6-1d2d5148b2c3"
      },
      "source": [
        "embedding_matrix = embeddings(path_emb + \"W-Skip-Punc.txt\")\n",
        "model, path = get_model(X_train, y_train, embedding_matrix, path.split(\"/\")[-1].split(\".\")[0])"
      ],
      "execution_count": null,
      "outputs": [
        {
          "output_type": "stream",
          "text": [
            "Epoch 1/10000\n",
            "282/282 [==============================] - 6s 17ms/step - loss: 0.6049 - acc: 0.6607 - val_loss: 0.4561 - val_acc: 0.7908\n",
            "\n",
            "Epoch 00001: val_acc improved from -inf to 0.79075, saving model to /content/drive/MyDrive/NLP/W-Skip-Punc.h5\n",
            "Epoch 2/10000\n",
            "282/282 [==============================] - 4s 16ms/step - loss: 0.4756 - acc: 0.7754 - val_loss: 0.4424 - val_acc: 0.8033\n",
            "\n",
            "Epoch 00002: val_acc improved from 0.79075 to 0.80325, saving model to /content/drive/MyDrive/NLP/W-Skip-Punc.h5\n",
            "Epoch 3/10000\n",
            "282/282 [==============================] - 4s 15ms/step - loss: 0.4199 - acc: 0.8107 - val_loss: 0.3840 - val_acc: 0.8227\n",
            "\n",
            "Epoch 00003: val_acc improved from 0.80325 to 0.82275, saving model to /content/drive/MyDrive/NLP/W-Skip-Punc.h5\n",
            "Epoch 4/10000\n",
            "282/282 [==============================] - 4s 15ms/step - loss: 0.3789 - acc: 0.8336 - val_loss: 0.3567 - val_acc: 0.8418\n",
            "\n",
            "Epoch 00004: val_acc improved from 0.82275 to 0.84175, saving model to /content/drive/MyDrive/NLP/W-Skip-Punc.h5\n",
            "Epoch 5/10000\n",
            "282/282 [==============================] - 4s 15ms/step - loss: 0.3443 - acc: 0.8478 - val_loss: 0.3545 - val_acc: 0.8400\n",
            "\n",
            "Epoch 00005: val_acc did not improve from 0.84175\n",
            "Epoch 6/10000\n",
            "282/282 [==============================] - 4s 15ms/step - loss: 0.3243 - acc: 0.8595 - val_loss: 0.3573 - val_acc: 0.8388\n",
            "\n",
            "Epoch 00006: val_acc did not improve from 0.84175\n",
            "Epoch 7/10000\n",
            "282/282 [==============================] - 5s 16ms/step - loss: 0.2999 - acc: 0.8730 - val_loss: 0.3377 - val_acc: 0.8558\n",
            "\n",
            "Epoch 00007: val_acc improved from 0.84175 to 0.85575, saving model to /content/drive/MyDrive/NLP/W-Skip-Punc.h5\n",
            "Epoch 8/10000\n",
            "282/282 [==============================] - 4s 15ms/step - loss: 0.2817 - acc: 0.8814 - val_loss: 0.3461 - val_acc: 0.8595\n",
            "\n",
            "Epoch 00008: val_acc improved from 0.85575 to 0.85950, saving model to /content/drive/MyDrive/NLP/W-Skip-Punc.h5\n",
            "Epoch 9/10000\n",
            "282/282 [==============================] - 4s 15ms/step - loss: 0.2444 - acc: 0.8986 - val_loss: 0.3490 - val_acc: 0.8547\n",
            "\n",
            "Epoch 00009: val_acc did not improve from 0.85950\n",
            "Epoch 10/10000\n",
            "282/282 [==============================] - 4s 15ms/step - loss: 0.2208 - acc: 0.9108 - val_loss: 0.3598 - val_acc: 0.8508\n",
            "\n",
            "Epoch 00010: val_acc did not improve from 0.85950\n",
            "Epoch 11/10000\n",
            "282/282 [==============================] - 5s 16ms/step - loss: 0.1952 - acc: 0.9227 - val_loss: 0.3651 - val_acc: 0.8470\n",
            "\n",
            "Epoch 00011: val_acc did not improve from 0.85950\n",
            "Epoch 12/10000\n",
            "282/282 [==============================] - 4s 15ms/step - loss: 0.1558 - acc: 0.9401 - val_loss: 0.4157 - val_acc: 0.8482\n",
            "\n",
            "Epoch 00012: val_acc did not improve from 0.85950\n",
            "Epoch 13/10000\n",
            "282/282 [==============================] - 4s 15ms/step - loss: 0.1331 - acc: 0.9490 - val_loss: 0.4450 - val_acc: 0.8447\n",
            "\n",
            "Epoch 00013: val_acc did not improve from 0.85950\n",
            "Epoch 14/10000\n",
            "282/282 [==============================] - 4s 15ms/step - loss: 0.1078 - acc: 0.9608 - val_loss: 0.4529 - val_acc: 0.8440\n",
            "\n",
            "Epoch 00014: val_acc did not improve from 0.85950\n",
            "Epoch 15/10000\n",
            "282/282 [==============================] - 4s 15ms/step - loss: 0.0833 - acc: 0.9718 - val_loss: 0.5540 - val_acc: 0.8405\n",
            "\n",
            "Epoch 00015: val_acc did not improve from 0.85950\n",
            "Epoch 16/10000\n",
            "282/282 [==============================] - 4s 15ms/step - loss: 0.0573 - acc: 0.9838 - val_loss: 0.5720 - val_acc: 0.8335\n",
            "\n",
            "Epoch 00016: val_acc did not improve from 0.85950\n",
            "Epoch 17/10000\n",
            "282/282 [==============================] - 4s 15ms/step - loss: 0.0575 - acc: 0.9806 - val_loss: 0.5867 - val_acc: 0.8443\n",
            "\n",
            "Epoch 00017: val_acc did not improve from 0.85950\n",
            "Epoch 00017: early stopping\n"
          ],
          "name": "stdout"
        }
      ]
    },
    {
      "cell_type": "code",
      "metadata": {
        "colab": {
          "base_uri": "https://localhost:8080/"
        },
        "id": "FHM1c_tThDP0",
        "outputId": "f1f729b3-e4c4-407a-e78a-e719ade26dd4"
      },
      "source": [
        "eval_model(path)"
      ],
      "execution_count": null,
      "outputs": [
        {
          "output_type": "stream",
          "text": [
            "313/313 [==============================] - 2s 4ms/step\n",
            " 37/313 [==>...........................] - ETA: 1s"
          ],
          "name": "stdout"
        },
        {
          "output_type": "stream",
          "text": [
            "/usr/local/lib/python3.7/dist-packages/tensorflow/python/keras/engine/sequential.py:450: UserWarning: `model.predict_classes()` is deprecated and will be removed after 2021-01-01. Please use instead:* `np.argmax(model.predict(x), axis=-1)`,   if your model does multi-class classification   (e.g. if it uses a `softmax` last-layer activation).* `(model.predict(x) > 0.5).astype(\"int32\")`,   if your model does binary classification   (e.g. if it uses a `sigmoid` last-layer activation).\n",
            "  warnings.warn('`model.predict_classes()` is deprecated and '\n"
          ],
          "name": "stderr"
        },
        {
          "output_type": "stream",
          "text": [
            "313/313 [==============================] - 1s 4ms/step\n",
            "Accuracy: 0.862900\n",
            "Precision: 0.844090\n",
            "Recall: 0.892836\n",
            "F1 score: 0.867779\n"
          ],
          "name": "stdout"
        }
      ]
    },
    {
      "cell_type": "code",
      "metadata": {
        "colab": {
          "base_uri": "https://localhost:8080/"
        },
        "id": "yw2t_cE9hKJS",
        "outputId": "a48b7e31-31f6-4c12-b348-595e8e7d4c84"
      },
      "source": [
        "embedding_matrix = embeddings(path_emb + \"W-CBOW-Punc.txt\")\n",
        "model, path = get_model(X_train, y_train, embedding_matrix, path.split(\"/\")[-1].split(\".\")[0])"
      ],
      "execution_count": null,
      "outputs": [
        {
          "output_type": "stream",
          "text": [
            "Epoch 1/10000\n",
            "282/282 [==============================] - 7s 17ms/step - loss: 0.5924 - acc: 0.6671 - val_loss: 0.4615 - val_acc: 0.7860\n",
            "\n",
            "Epoch 00001: val_acc improved from -inf to 0.78600, saving model to /content/drive/MyDrive/NLP/W-CBOW-Punc.h5\n",
            "Epoch 2/10000\n",
            "282/282 [==============================] - 4s 15ms/step - loss: 0.4548 - acc: 0.7909 - val_loss: 0.3998 - val_acc: 0.8145\n",
            "\n",
            "Epoch 00002: val_acc improved from 0.78600 to 0.81450, saving model to /content/drive/MyDrive/NLP/W-CBOW-Punc.h5\n",
            "Epoch 3/10000\n",
            "282/282 [==============================] - 4s 15ms/step - loss: 0.3935 - acc: 0.8221 - val_loss: 0.3755 - val_acc: 0.8295\n",
            "\n",
            "Epoch 00003: val_acc improved from 0.81450 to 0.82950, saving model to /content/drive/MyDrive/NLP/W-CBOW-Punc.h5\n",
            "Epoch 4/10000\n",
            "282/282 [==============================] - 4s 15ms/step - loss: 0.3473 - acc: 0.8482 - val_loss: 0.4077 - val_acc: 0.8112\n",
            "\n",
            "Epoch 00004: val_acc did not improve from 0.82950\n",
            "Epoch 5/10000\n",
            "282/282 [==============================] - 4s 15ms/step - loss: 0.3122 - acc: 0.8655 - val_loss: 0.3453 - val_acc: 0.8508\n",
            "\n",
            "Epoch 00005: val_acc improved from 0.82950 to 0.85075, saving model to /content/drive/MyDrive/NLP/W-CBOW-Punc.h5\n",
            "Epoch 6/10000\n",
            "282/282 [==============================] - 4s 15ms/step - loss: 0.2732 - acc: 0.8847 - val_loss: 0.3651 - val_acc: 0.8460\n",
            "\n",
            "Epoch 00006: val_acc did not improve from 0.85075\n",
            "Epoch 7/10000\n",
            "282/282 [==============================] - 5s 16ms/step - loss: 0.2281 - acc: 0.9074 - val_loss: 0.3696 - val_acc: 0.8418\n",
            "\n",
            "Epoch 00007: val_acc did not improve from 0.85075\n",
            "Epoch 8/10000\n",
            "282/282 [==============================] - 4s 15ms/step - loss: 0.2000 - acc: 0.9193 - val_loss: 0.4161 - val_acc: 0.8537\n",
            "\n",
            "Epoch 00008: val_acc improved from 0.85075 to 0.85375, saving model to /content/drive/MyDrive/NLP/W-CBOW-Punc.h5\n",
            "Epoch 9/10000\n",
            "282/282 [==============================] - 4s 15ms/step - loss: 0.1601 - acc: 0.9379 - val_loss: 0.4092 - val_acc: 0.8367\n",
            "\n",
            "Epoch 00009: val_acc did not improve from 0.85375\n",
            "Epoch 10/10000\n",
            "282/282 [==============================] - 4s 15ms/step - loss: 0.1202 - acc: 0.9577 - val_loss: 0.4435 - val_acc: 0.8470\n",
            "\n",
            "Epoch 00010: val_acc did not improve from 0.85375\n",
            "Epoch 11/10000\n",
            "282/282 [==============================] - 5s 16ms/step - loss: 0.1020 - acc: 0.9650 - val_loss: 0.4612 - val_acc: 0.8530\n",
            "\n",
            "Epoch 00011: val_acc did not improve from 0.85375\n",
            "Epoch 12/10000\n",
            "282/282 [==============================] - 4s 15ms/step - loss: 0.0665 - acc: 0.9789 - val_loss: 0.5437 - val_acc: 0.8400\n",
            "\n",
            "Epoch 00012: val_acc did not improve from 0.85375\n",
            "Epoch 13/10000\n",
            "282/282 [==============================] - 4s 15ms/step - loss: 0.0448 - acc: 0.9879 - val_loss: 0.6515 - val_acc: 0.8265\n",
            "\n",
            "Epoch 00013: val_acc did not improve from 0.85375\n",
            "Epoch 14/10000\n",
            "282/282 [==============================] - 4s 15ms/step - loss: 0.0523 - acc: 0.9843 - val_loss: 0.6061 - val_acc: 0.8443\n",
            "\n",
            "Epoch 00014: val_acc did not improve from 0.85375\n",
            "Epoch 15/10000\n",
            "282/282 [==============================] - 4s 15ms/step - loss: 0.0295 - acc: 0.9926 - val_loss: 0.6374 - val_acc: 0.8382\n",
            "\n",
            "Epoch 00015: val_acc did not improve from 0.85375\n",
            "Epoch 00015: early stopping\n"
          ],
          "name": "stdout"
        }
      ]
    },
    {
      "cell_type": "code",
      "metadata": {
        "colab": {
          "base_uri": "https://localhost:8080/"
        },
        "id": "jtAXyJRthOzU",
        "outputId": "7f9c18f2-3ba7-44dd-e782-5ec5f81e378e"
      },
      "source": [
        "eval_model(path)"
      ],
      "execution_count": null,
      "outputs": [
        {
          "output_type": "stream",
          "text": [
            "313/313 [==============================] - 2s 4ms/step\n",
            " 40/313 [==>...........................] - ETA: 1s"
          ],
          "name": "stdout"
        },
        {
          "output_type": "stream",
          "text": [
            "/usr/local/lib/python3.7/dist-packages/tensorflow/python/keras/engine/sequential.py:450: UserWarning: `model.predict_classes()` is deprecated and will be removed after 2021-01-01. Please use instead:* `np.argmax(model.predict(x), axis=-1)`,   if your model does multi-class classification   (e.g. if it uses a `softmax` last-layer activation).* `(model.predict(x) > 0.5).astype(\"int32\")`,   if your model does binary classification   (e.g. if it uses a `sigmoid` last-layer activation).\n",
            "  warnings.warn('`model.predict_classes()` is deprecated and '\n"
          ],
          "name": "stderr"
        },
        {
          "output_type": "stream",
          "text": [
            "313/313 [==============================] - 1s 4ms/step\n",
            "Accuracy: 0.851500\n",
            "Precision: 0.835157\n",
            "Recall: 0.878746\n",
            "F1 score: 0.856397\n"
          ],
          "name": "stdout"
        }
      ]
    },
    {
      "cell_type": "markdown",
      "metadata": {
        "id": "YU19jYV6_bUx"
      },
      "source": [
        ""
      ]
    },
    {
      "cell_type": "markdown",
      "metadata": {
        "id": "Nznk5ffjktZW"
      },
      "source": [
        "# Stop Words"
      ]
    },
    {
      "cell_type": "code",
      "metadata": {
        "colab": {
          "base_uri": "https://localhost:8080/"
        },
        "id": "zYMnw-dohPhp",
        "outputId": "0827208c-e3b9-4016-9396-dad161d70daa"
      },
      "source": [
        "embedding_matrix = embeddings(path_emb + \"W-Skip-Stop.txt\")\n",
        "model, path = get_model(X_train, y_train, embedding_matrix, path.split(\"/\")[-1].split(\".\")[0])"
      ],
      "execution_count": null,
      "outputs": [
        {
          "output_type": "stream",
          "text": [
            "Epoch 1/10000\n",
            "282/282 [==============================] - 7s 17ms/step - loss: 0.5636 - acc: 0.7016 - val_loss: 0.4457 - val_acc: 0.7903\n",
            "\n",
            "Epoch 00001: val_acc improved from -inf to 0.79025, saving model to /content/drive/MyDrive/NLP/W-Skip-Stop.h5\n",
            "Epoch 2/10000\n",
            "282/282 [==============================] - 4s 15ms/step - loss: 0.4508 - acc: 0.7915 - val_loss: 0.4093 - val_acc: 0.8130\n",
            "\n",
            "Epoch 00002: val_acc improved from 0.79025 to 0.81300, saving model to /content/drive/MyDrive/NLP/W-Skip-Stop.h5\n",
            "Epoch 3/10000\n",
            "282/282 [==============================] - 4s 15ms/step - loss: 0.4087 - acc: 0.8167 - val_loss: 0.3964 - val_acc: 0.8125\n",
            "\n",
            "Epoch 00003: val_acc did not improve from 0.81300\n",
            "Epoch 4/10000\n",
            "282/282 [==============================] - 4s 15ms/step - loss: 0.3909 - acc: 0.8259 - val_loss: 0.4021 - val_acc: 0.8173\n",
            "\n",
            "Epoch 00004: val_acc improved from 0.81300 to 0.81725, saving model to /content/drive/MyDrive/NLP/W-Skip-Stop.h5\n",
            "Epoch 5/10000\n",
            "282/282 [==============================] - 4s 15ms/step - loss: 0.3506 - acc: 0.8472 - val_loss: 0.3760 - val_acc: 0.8230\n",
            "\n",
            "Epoch 00005: val_acc improved from 0.81725 to 0.82300, saving model to /content/drive/MyDrive/NLP/W-Skip-Stop.h5\n",
            "Epoch 6/10000\n",
            "282/282 [==============================] - 4s 15ms/step - loss: 0.3377 - acc: 0.8513 - val_loss: 0.3837 - val_acc: 0.8415\n",
            "\n",
            "Epoch 00006: val_acc improved from 0.82300 to 0.84150, saving model to /content/drive/MyDrive/NLP/W-Skip-Stop.h5\n",
            "Epoch 7/10000\n",
            "282/282 [==============================] - 4s 15ms/step - loss: 0.3141 - acc: 0.8647 - val_loss: 0.3565 - val_acc: 0.8465\n",
            "\n",
            "Epoch 00007: val_acc improved from 0.84150 to 0.84650, saving model to /content/drive/MyDrive/NLP/W-Skip-Stop.h5\n",
            "Epoch 8/10000\n",
            "282/282 [==============================] - 4s 15ms/step - loss: 0.2989 - acc: 0.8760 - val_loss: 0.3592 - val_acc: 0.8405\n",
            "\n",
            "Epoch 00008: val_acc did not improve from 0.84650\n",
            "Epoch 9/10000\n",
            "282/282 [==============================] - 4s 16ms/step - loss: 0.2856 - acc: 0.8798 - val_loss: 0.4042 - val_acc: 0.8320\n",
            "\n",
            "Epoch 00009: val_acc did not improve from 0.84650\n",
            "Epoch 10/10000\n",
            "282/282 [==============================] - 4s 15ms/step - loss: 0.2489 - acc: 0.8970 - val_loss: 0.3956 - val_acc: 0.8365\n",
            "\n",
            "Epoch 00010: val_acc did not improve from 0.84650\n",
            "Epoch 11/10000\n",
            "282/282 [==============================] - 4s 15ms/step - loss: 0.2300 - acc: 0.9073 - val_loss: 0.4039 - val_acc: 0.8363\n",
            "\n",
            "Epoch 00011: val_acc did not improve from 0.84650\n",
            "Epoch 12/10000\n",
            "282/282 [==============================] - 4s 15ms/step - loss: 0.2107 - acc: 0.9133 - val_loss: 0.4073 - val_acc: 0.8380\n",
            "\n",
            "Epoch 00012: val_acc did not improve from 0.84650\n",
            "Epoch 13/10000\n",
            "282/282 [==============================] - 4s 15ms/step - loss: 0.1812 - acc: 0.9303 - val_loss: 0.4254 - val_acc: 0.8363\n",
            "\n",
            "Epoch 00013: val_acc did not improve from 0.84650\n",
            "Epoch 14/10000\n",
            "282/282 [==============================] - 4s 15ms/step - loss: 0.1525 - acc: 0.9430 - val_loss: 0.4430 - val_acc: 0.8260\n",
            "\n",
            "Epoch 00014: val_acc did not improve from 0.84650\n",
            "Epoch 15/10000\n",
            "282/282 [==============================] - 4s 15ms/step - loss: 0.1282 - acc: 0.9534 - val_loss: 0.5734 - val_acc: 0.8215\n",
            "\n",
            "Epoch 00015: val_acc did not improve from 0.84650\n",
            "Epoch 16/10000\n",
            "282/282 [==============================] - 4s 15ms/step - loss: 0.1176 - acc: 0.9581 - val_loss: 0.5657 - val_acc: 0.8288\n",
            "\n",
            "Epoch 00016: val_acc did not improve from 0.84650\n",
            "Epoch 17/10000\n",
            "282/282 [==============================] - 4s 15ms/step - loss: 0.0976 - acc: 0.9645 - val_loss: 0.5803 - val_acc: 0.8355\n",
            "\n",
            "Epoch 00017: val_acc did not improve from 0.84650\n",
            "Epoch 00017: early stopping\n"
          ],
          "name": "stdout"
        }
      ]
    },
    {
      "cell_type": "code",
      "metadata": {
        "colab": {
          "base_uri": "https://localhost:8080/"
        },
        "id": "A_071gcalEKW",
        "outputId": "fd46ee86-0cef-4ace-f4ce-c4c8d7349d2b"
      },
      "source": [
        "eval_model(path)"
      ],
      "execution_count": null,
      "outputs": [
        {
          "output_type": "stream",
          "text": [
            "313/313 [==============================] - 2s 4ms/step\n",
            " 40/313 [==>...........................] - ETA: 1s"
          ],
          "name": "stdout"
        },
        {
          "output_type": "stream",
          "text": [
            "/usr/local/lib/python3.7/dist-packages/tensorflow/python/keras/engine/sequential.py:450: UserWarning: `model.predict_classes()` is deprecated and will be removed after 2021-01-01. Please use instead:* `np.argmax(model.predict(x), axis=-1)`,   if your model does multi-class classification   (e.g. if it uses a `softmax` last-layer activation).* `(model.predict(x) > 0.5).astype(\"int32\")`,   if your model does binary classification   (e.g. if it uses a `sigmoid` last-layer activation).\n",
            "  warnings.warn('`model.predict_classes()` is deprecated and '\n"
          ],
          "name": "stderr"
        },
        {
          "output_type": "stream",
          "text": [
            "313/313 [==============================] - 1s 4ms/step\n",
            "Accuracy: 0.842900\n",
            "Precision: 0.846523\n",
            "Recall: 0.840643\n",
            "F1 score: 0.843573\n"
          ],
          "name": "stdout"
        }
      ]
    },
    {
      "cell_type": "code",
      "metadata": {
        "colab": {
          "base_uri": "https://localhost:8080/"
        },
        "id": "K6cMOP46lGxp",
        "outputId": "f2d8c53d-1066-4e78-bd02-1c8512fd65b5"
      },
      "source": [
        "embedding_matrix = embeddings(path_emb + \"W-CBOW-Stop.txt\")\n",
        "model, path = get_model(X_train, y_train, embedding_matrix, path.split(\"/\")[-1].split(\".\")[0])"
      ],
      "execution_count": null,
      "outputs": [
        {
          "output_type": "stream",
          "text": [
            "Epoch 1/10000\n",
            "282/282 [==============================] - 7s 17ms/step - loss: 0.5838 - acc: 0.6883 - val_loss: 0.4434 - val_acc: 0.7903\n",
            "\n",
            "Epoch 00001: val_acc improved from -inf to 0.79025, saving model to /content/drive/MyDrive/NLP/W-CBOW-Stop.h5\n",
            "Epoch 2/10000\n",
            "282/282 [==============================] - 4s 15ms/step - loss: 0.4446 - acc: 0.7962 - val_loss: 0.4053 - val_acc: 0.8105\n",
            "\n",
            "Epoch 00002: val_acc improved from 0.79025 to 0.81050, saving model to /content/drive/MyDrive/NLP/W-CBOW-Stop.h5\n",
            "Epoch 3/10000\n",
            "282/282 [==============================] - 4s 15ms/step - loss: 0.4019 - acc: 0.8173 - val_loss: 0.3825 - val_acc: 0.8250\n",
            "\n",
            "Epoch 00003: val_acc improved from 0.81050 to 0.82500, saving model to /content/drive/MyDrive/NLP/W-CBOW-Stop.h5\n",
            "Epoch 4/10000\n",
            "282/282 [==============================] - 4s 15ms/step - loss: 0.3639 - acc: 0.8374 - val_loss: 0.3821 - val_acc: 0.8248\n",
            "\n",
            "Epoch 00004: val_acc did not improve from 0.82500\n",
            "Epoch 5/10000\n",
            "282/282 [==============================] - 4s 15ms/step - loss: 0.3503 - acc: 0.8449 - val_loss: 0.3793 - val_acc: 0.8367\n",
            "\n",
            "Epoch 00005: val_acc improved from 0.82500 to 0.83675, saving model to /content/drive/MyDrive/NLP/W-CBOW-Stop.h5\n",
            "Epoch 6/10000\n",
            "282/282 [==============================] - 4s 15ms/step - loss: 0.3216 - acc: 0.8620 - val_loss: 0.4034 - val_acc: 0.8152\n",
            "\n",
            "Epoch 00006: val_acc did not improve from 0.83675\n",
            "Epoch 7/10000\n",
            "282/282 [==============================] - 4s 16ms/step - loss: 0.2970 - acc: 0.8729 - val_loss: 0.3753 - val_acc: 0.8345\n",
            "\n",
            "Epoch 00007: val_acc did not improve from 0.83675\n",
            "Epoch 8/10000\n",
            "282/282 [==============================] - 4s 15ms/step - loss: 0.2659 - acc: 0.8893 - val_loss: 0.3931 - val_acc: 0.8375\n",
            "\n",
            "Epoch 00008: val_acc improved from 0.83675 to 0.83750, saving model to /content/drive/MyDrive/NLP/W-CBOW-Stop.h5\n",
            "Epoch 9/10000\n",
            "282/282 [==============================] - 4s 15ms/step - loss: 0.2401 - acc: 0.9002 - val_loss: 0.3967 - val_acc: 0.8303\n",
            "\n",
            "Epoch 00009: val_acc did not improve from 0.83750\n",
            "Epoch 10/10000\n",
            "282/282 [==============================] - 4s 15ms/step - loss: 0.2172 - acc: 0.9128 - val_loss: 0.4340 - val_acc: 0.8330\n",
            "\n",
            "Epoch 00010: val_acc did not improve from 0.83750\n",
            "Epoch 11/10000\n",
            "282/282 [==============================] - 4s 16ms/step - loss: 0.1999 - acc: 0.9196 - val_loss: 0.4565 - val_acc: 0.8260\n",
            "\n",
            "Epoch 00011: val_acc did not improve from 0.83750\n",
            "Epoch 12/10000\n",
            "282/282 [==============================] - 4s 15ms/step - loss: 0.1602 - acc: 0.9408 - val_loss: 0.4656 - val_acc: 0.8170\n",
            "\n",
            "Epoch 00012: val_acc did not improve from 0.83750\n",
            "Epoch 13/10000\n",
            "282/282 [==============================] - 4s 15ms/step - loss: 0.1320 - acc: 0.9503 - val_loss: 0.5216 - val_acc: 0.8108\n",
            "\n",
            "Epoch 00013: val_acc did not improve from 0.83750\n",
            "Epoch 14/10000\n",
            "282/282 [==============================] - 4s 15ms/step - loss: 0.1003 - acc: 0.9661 - val_loss: 0.5758 - val_acc: 0.8210\n",
            "\n",
            "Epoch 00014: val_acc did not improve from 0.83750\n",
            "Epoch 15/10000\n",
            "282/282 [==============================] - 4s 15ms/step - loss: 0.0913 - acc: 0.9695 - val_loss: 0.6018 - val_acc: 0.8167\n",
            "\n",
            "Epoch 00015: val_acc did not improve from 0.83750\n",
            "Epoch 16/10000\n",
            "282/282 [==============================] - 4s 15ms/step - loss: 0.0686 - acc: 0.9782 - val_loss: 0.6880 - val_acc: 0.8232\n",
            "\n",
            "Epoch 00016: val_acc did not improve from 0.83750\n",
            "Epoch 17/10000\n",
            "282/282 [==============================] - 4s 15ms/step - loss: 0.0495 - acc: 0.9858 - val_loss: 0.7234 - val_acc: 0.7993\n",
            "\n",
            "Epoch 00017: val_acc did not improve from 0.83750\n",
            "Epoch 00017: early stopping\n"
          ],
          "name": "stdout"
        }
      ]
    },
    {
      "cell_type": "code",
      "metadata": {
        "colab": {
          "base_uri": "https://localhost:8080/"
        },
        "id": "1FhZiH81lLYR",
        "outputId": "565692f2-38d8-47e0-93d7-81715a8c292d"
      },
      "source": [
        "eval_model(path)"
      ],
      "execution_count": null,
      "outputs": [
        {
          "output_type": "stream",
          "text": [
            "313/313 [==============================] - 2s 4ms/step\n",
            " 39/313 [==>...........................] - ETA: 1s"
          ],
          "name": "stdout"
        },
        {
          "output_type": "stream",
          "text": [
            "/usr/local/lib/python3.7/dist-packages/tensorflow/python/keras/engine/sequential.py:450: UserWarning: `model.predict_classes()` is deprecated and will be removed after 2021-01-01. Please use instead:* `np.argmax(model.predict(x), axis=-1)`,   if your model does multi-class classification   (e.g. if it uses a `softmax` last-layer activation).* `(model.predict(x) > 0.5).astype(\"int32\")`,   if your model does binary classification   (e.g. if it uses a `sigmoid` last-layer activation).\n",
            "  warnings.warn('`model.predict_classes()` is deprecated and '\n"
          ],
          "name": "stderr"
        },
        {
          "output_type": "stream",
          "text": [
            "313/313 [==============================] - 1s 4ms/step\n",
            "Accuracy: 0.841000\n",
            "Precision: 0.863282\n",
            "Recall: 0.813257\n",
            "F1 score: 0.837523\n"
          ],
          "name": "stdout"
        }
      ]
    },
    {
      "cell_type": "markdown",
      "metadata": {
        "id": "I7d4AxXw3Hmc"
      },
      "source": [
        "# POS Tagger"
      ]
    },
    {
      "cell_type": "code",
      "metadata": {
        "colab": {
          "base_uri": "https://localhost:8080/"
        },
        "id": "5IPlbBR6uKfs",
        "outputId": "b755a939-86e3-42ac-97fe-f7c75993d8db"
      },
      "source": [
        "path = \"/content/drive/MyDrive/NLP/W-Skip-POS.txt\"\n",
        "embedding_matrix = embeddings(path_emb + \"W-Skip-POS.txt\")\n",
        "model, path = get_model(X_train, y_train, embedding_matrix, path.split(\"/\")[-1].split(\".\")[0])"
      ],
      "execution_count": null,
      "outputs": [
        {
          "output_type": "stream",
          "text": [
            "Epoch 1/10000\n",
            "282/282 [==============================] - 6s 17ms/step - loss: 0.6125 - acc: 0.6432 - val_loss: 0.4463 - val_acc: 0.7878\n",
            "\n",
            "Epoch 00001: val_acc improved from -inf to 0.78775, saving model to /content/drive/MyDrive/NLP/W-Skip-POS.h5\n",
            "Epoch 2/10000\n",
            "282/282 [==============================] - 4s 15ms/step - loss: 0.4549 - acc: 0.7881 - val_loss: 0.5537 - val_acc: 0.7245\n",
            "\n",
            "Epoch 00002: val_acc did not improve from 0.78775\n",
            "Epoch 3/10000\n",
            "282/282 [==============================] - 4s 15ms/step - loss: 0.4410 - acc: 0.7942 - val_loss: 0.3825 - val_acc: 0.8248\n",
            "\n",
            "Epoch 00003: val_acc improved from 0.78775 to 0.82475, saving model to /content/drive/MyDrive/NLP/W-Skip-POS.h5\n",
            "Epoch 4/10000\n",
            "282/282 [==============================] - 4s 15ms/step - loss: 0.3735 - acc: 0.8353 - val_loss: 0.4000 - val_acc: 0.8250\n",
            "\n",
            "Epoch 00004: val_acc improved from 0.82475 to 0.82500, saving model to /content/drive/MyDrive/NLP/W-Skip-POS.h5\n",
            "Epoch 5/10000\n",
            "282/282 [==============================] - 4s 15ms/step - loss: 0.3466 - acc: 0.8482 - val_loss: 0.3580 - val_acc: 0.8367\n",
            "\n",
            "Epoch 00005: val_acc improved from 0.82500 to 0.83675, saving model to /content/drive/MyDrive/NLP/W-Skip-POS.h5\n",
            "Epoch 6/10000\n",
            "282/282 [==============================] - 4s 15ms/step - loss: 0.3103 - acc: 0.8664 - val_loss: 0.3824 - val_acc: 0.8238\n",
            "\n",
            "Epoch 00006: val_acc did not improve from 0.83675\n",
            "Epoch 7/10000\n",
            "282/282 [==============================] - 5s 16ms/step - loss: 0.2916 - acc: 0.8749 - val_loss: 0.3514 - val_acc: 0.8512\n",
            "\n",
            "Epoch 00007: val_acc improved from 0.83675 to 0.85125, saving model to /content/drive/MyDrive/NLP/W-Skip-POS.h5\n",
            "Epoch 8/10000\n",
            "282/282 [==============================] - 4s 15ms/step - loss: 0.2569 - acc: 0.8961 - val_loss: 0.3514 - val_acc: 0.8503\n",
            "\n",
            "Epoch 00008: val_acc did not improve from 0.85125\n",
            "Epoch 9/10000\n",
            "282/282 [==============================] - 4s 15ms/step - loss: 0.2282 - acc: 0.9060 - val_loss: 0.3716 - val_acc: 0.8522\n",
            "\n",
            "Epoch 00009: val_acc improved from 0.85125 to 0.85225, saving model to /content/drive/MyDrive/NLP/W-Skip-POS.h5\n",
            "Epoch 10/10000\n",
            "282/282 [==============================] - 4s 15ms/step - loss: 0.1925 - acc: 0.9236 - val_loss: 0.3904 - val_acc: 0.8537\n",
            "\n",
            "Epoch 00010: val_acc improved from 0.85225 to 0.85375, saving model to /content/drive/MyDrive/NLP/W-Skip-POS.h5\n",
            "Epoch 11/10000\n",
            "282/282 [==============================] - 4s 15ms/step - loss: 0.1589 - acc: 0.9395 - val_loss: 0.4281 - val_acc: 0.8413\n",
            "\n",
            "Epoch 00011: val_acc did not improve from 0.85375\n",
            "Epoch 12/10000\n",
            "282/282 [==============================] - 4s 16ms/step - loss: 0.1304 - acc: 0.9514 - val_loss: 0.5050 - val_acc: 0.8238\n",
            "\n",
            "Epoch 00012: val_acc did not improve from 0.85375\n",
            "Epoch 13/10000\n",
            "282/282 [==============================] - 4s 15ms/step - loss: 0.1151 - acc: 0.9579 - val_loss: 0.4889 - val_acc: 0.8360\n",
            "\n",
            "Epoch 00013: val_acc did not improve from 0.85375\n",
            "Epoch 14/10000\n",
            "282/282 [==============================] - 4s 15ms/step - loss: 0.0794 - acc: 0.9740 - val_loss: 0.5814 - val_acc: 0.8255\n",
            "\n",
            "Epoch 00014: val_acc did not improve from 0.85375\n",
            "Epoch 15/10000\n",
            "282/282 [==============================] - 4s 15ms/step - loss: 0.0643 - acc: 0.9791 - val_loss: 0.6182 - val_acc: 0.8320\n",
            "\n",
            "Epoch 00015: val_acc did not improve from 0.85375\n",
            "Epoch 16/10000\n",
            "282/282 [==============================] - 4s 15ms/step - loss: 0.0492 - acc: 0.9859 - val_loss: 0.6718 - val_acc: 0.8432\n",
            "\n",
            "Epoch 00016: val_acc did not improve from 0.85375\n",
            "Epoch 17/10000\n",
            "282/282 [==============================] - 4s 15ms/step - loss: 0.0461 - acc: 0.9868 - val_loss: 0.7013 - val_acc: 0.8413\n",
            "\n",
            "Epoch 00017: val_acc did not improve from 0.85375\n",
            "Epoch 18/10000\n",
            "282/282 [==============================] - 4s 15ms/step - loss: 0.0287 - acc: 0.9929 - val_loss: 0.7460 - val_acc: 0.8465\n",
            "\n",
            "Epoch 00018: val_acc did not improve from 0.85375\n",
            "Epoch 00018: early stopping\n"
          ],
          "name": "stdout"
        }
      ]
    },
    {
      "cell_type": "code",
      "metadata": {
        "colab": {
          "base_uri": "https://localhost:8080/"
        },
        "id": "PZnVzsZp3XTB",
        "outputId": "5da0c607-ee7c-4d86-a457-93accde5daa6"
      },
      "source": [
        "eval_model(path)"
      ],
      "execution_count": null,
      "outputs": [
        {
          "output_type": "stream",
          "text": [
            "313/313 [==============================] - 2s 4ms/step\n",
            " 38/313 [==>...........................] - ETA: 1s"
          ],
          "name": "stdout"
        },
        {
          "output_type": "stream",
          "text": [
            "/usr/local/lib/python3.7/dist-packages/tensorflow/python/keras/engine/sequential.py:450: UserWarning: `model.predict_classes()` is deprecated and will be removed after 2021-01-01. Please use instead:* `np.argmax(model.predict(x), axis=-1)`,   if your model does multi-class classification   (e.g. if it uses a `softmax` last-layer activation).* `(model.predict(x) > 0.5).astype(\"int32\")`,   if your model does binary classification   (e.g. if it uses a `sigmoid` last-layer activation).\n",
            "  warnings.warn('`model.predict_classes()` is deprecated and '\n"
          ],
          "name": "stderr"
        },
        {
          "output_type": "stream",
          "text": [
            "313/313 [==============================] - 1s 4ms/step\n",
            "Accuracy: 0.859500\n",
            "Precision: 0.875879\n",
            "Recall: 0.840246\n",
            "F1 score: 0.857693\n"
          ],
          "name": "stdout"
        }
      ]
    },
    {
      "cell_type": "code",
      "metadata": {
        "colab": {
          "base_uri": "https://localhost:8080/"
        },
        "id": "vs7dFZL54AJ7",
        "outputId": "6b4ca97f-e4fe-4a1d-c283-59998c2487f6"
      },
      "source": [
        "embedding_matrix = embeddings(path_emb + \"W-CBOW-POS.txt\")\n",
        "model, path = get_model(X_train, y_train, embedding_matrix, path.split(\"/\")[-1].split(\".\")[0])"
      ],
      "execution_count": null,
      "outputs": [
        {
          "output_type": "stream",
          "text": [
            "Epoch 1/10000\n",
            "282/282 [==============================] - 7s 17ms/step - loss: 0.6053 - acc: 0.6530 - val_loss: 0.4571 - val_acc: 0.7883\n",
            "\n",
            "Epoch 00001: val_acc improved from -inf to 0.78825, saving model to /content/drive/MyDrive/NLP/W-CBOW-POS.h5\n",
            "Epoch 2/10000\n",
            "282/282 [==============================] - 4s 15ms/step - loss: 0.4425 - acc: 0.7956 - val_loss: 0.4018 - val_acc: 0.8130\n",
            "\n",
            "Epoch 00002: val_acc improved from 0.78825 to 0.81300, saving model to /content/drive/MyDrive/NLP/W-CBOW-POS.h5\n",
            "Epoch 3/10000\n",
            "282/282 [==============================] - 4s 15ms/step - loss: 0.3900 - acc: 0.8240 - val_loss: 0.4006 - val_acc: 0.8130\n",
            "\n",
            "Epoch 00003: val_acc did not improve from 0.81300\n",
            "Epoch 4/10000\n",
            "282/282 [==============================] - 4s 15ms/step - loss: 0.3313 - acc: 0.8554 - val_loss: 0.3588 - val_acc: 0.8482\n",
            "\n",
            "Epoch 00004: val_acc improved from 0.81300 to 0.84825, saving model to /content/drive/MyDrive/NLP/W-CBOW-POS.h5\n",
            "Epoch 5/10000\n",
            "282/282 [==============================] - 4s 15ms/step - loss: 0.3121 - acc: 0.8648 - val_loss: 0.3513 - val_acc: 0.8415\n",
            "\n",
            "Epoch 00005: val_acc did not improve from 0.84825\n",
            "Epoch 6/10000\n",
            "282/282 [==============================] - 5s 16ms/step - loss: 0.2596 - acc: 0.8938 - val_loss: 0.3521 - val_acc: 0.8503\n",
            "\n",
            "Epoch 00006: val_acc improved from 0.84825 to 0.85025, saving model to /content/drive/MyDrive/NLP/W-CBOW-POS.h5\n",
            "Epoch 7/10000\n",
            "282/282 [==============================] - 4s 15ms/step - loss: 0.2227 - acc: 0.9102 - val_loss: 0.3510 - val_acc: 0.8522\n",
            "\n",
            "Epoch 00007: val_acc improved from 0.85025 to 0.85225, saving model to /content/drive/MyDrive/NLP/W-CBOW-POS.h5\n",
            "Epoch 8/10000\n",
            "282/282 [==============================] - 4s 15ms/step - loss: 0.1797 - acc: 0.9288 - val_loss: 0.3826 - val_acc: 0.8528\n",
            "\n",
            "Epoch 00008: val_acc improved from 0.85225 to 0.85275, saving model to /content/drive/MyDrive/NLP/W-CBOW-POS.h5\n",
            "Epoch 9/10000\n",
            "282/282 [==============================] - 4s 15ms/step - loss: 0.1428 - acc: 0.9471 - val_loss: 0.4099 - val_acc: 0.8462\n",
            "\n",
            "Epoch 00009: val_acc did not improve from 0.85275\n",
            "Epoch 10/10000\n",
            "282/282 [==============================] - 4s 15ms/step - loss: 0.1059 - acc: 0.9643 - val_loss: 0.4942 - val_acc: 0.8420\n",
            "\n",
            "Epoch 00010: val_acc did not improve from 0.85275\n",
            "Epoch 11/10000\n",
            "282/282 [==============================] - 5s 16ms/step - loss: 0.0785 - acc: 0.9743 - val_loss: 0.5623 - val_acc: 0.8428\n",
            "\n",
            "Epoch 00011: val_acc did not improve from 0.85275\n",
            "Epoch 12/10000\n",
            "282/282 [==============================] - 4s 15ms/step - loss: 0.0575 - acc: 0.9830 - val_loss: 0.5679 - val_acc: 0.8292\n",
            "\n",
            "Epoch 00012: val_acc did not improve from 0.85275\n",
            "Epoch 13/10000\n",
            "282/282 [==============================] - 4s 15ms/step - loss: 0.0823 - acc: 0.9726 - val_loss: 0.6357 - val_acc: 0.8372\n",
            "\n",
            "Epoch 00013: val_acc did not improve from 0.85275\n",
            "Epoch 14/10000\n",
            "282/282 [==============================] - 4s 15ms/step - loss: 0.0370 - acc: 0.9903 - val_loss: 0.6875 - val_acc: 0.8353\n",
            "\n",
            "Epoch 00014: val_acc did not improve from 0.85275\n",
            "Epoch 15/10000\n",
            "282/282 [==============================] - 4s 15ms/step - loss: 0.0232 - acc: 0.9947 - val_loss: 0.7026 - val_acc: 0.8322\n",
            "\n",
            "Epoch 00015: val_acc did not improve from 0.85275\n",
            "Epoch 16/10000\n",
            "282/282 [==============================] - 4s 15ms/step - loss: 0.0247 - acc: 0.9940 - val_loss: 0.7545 - val_acc: 0.8370\n",
            "\n",
            "Epoch 00016: val_acc did not improve from 0.85275\n",
            "Epoch 17/10000\n",
            "282/282 [==============================] - 4s 15ms/step - loss: 0.0245 - acc: 0.9942 - val_loss: 0.7522 - val_acc: 0.8378\n",
            "\n",
            "Epoch 00017: val_acc did not improve from 0.85275\n",
            "Epoch 00017: early stopping\n"
          ],
          "name": "stdout"
        }
      ]
    },
    {
      "cell_type": "code",
      "metadata": {
        "colab": {
          "base_uri": "https://localhost:8080/"
        },
        "id": "F6OcgtLY4JUZ",
        "outputId": "485594b1-5cf3-4d69-c556-90ef93cf4572"
      },
      "source": [
        "eval_model(path)"
      ],
      "execution_count": null,
      "outputs": [
        {
          "output_type": "stream",
          "text": [
            "313/313 [==============================] - 2s 4ms/step\n",
            " 39/313 [==>...........................] - ETA: 1s"
          ],
          "name": "stdout"
        },
        {
          "output_type": "stream",
          "text": [
            "/usr/local/lib/python3.7/dist-packages/tensorflow/python/keras/engine/sequential.py:450: UserWarning: `model.predict_classes()` is deprecated and will be removed after 2021-01-01. Please use instead:* `np.argmax(model.predict(x), axis=-1)`,   if your model does multi-class classification   (e.g. if it uses a `softmax` last-layer activation).* `(model.predict(x) > 0.5).astype(\"int32\")`,   if your model does binary classification   (e.g. if it uses a `sigmoid` last-layer activation).\n",
            "  warnings.warn('`model.predict_classes()` is deprecated and '\n"
          ],
          "name": "stderr"
        },
        {
          "output_type": "stream",
          "text": [
            "313/313 [==============================] - 1s 4ms/step\n",
            "Accuracy: 0.857700\n",
            "Precision: 0.860447\n",
            "Recall: 0.856519\n",
            "F1 score: 0.858478\n"
          ],
          "name": "stdout"
        }
      ]
    },
    {
      "cell_type": "markdown",
      "metadata": {
        "id": "_KWySv0134rf"
      },
      "source": [
        "**Comment**  \n",
        "The previous results show that each text processing tool impacts differently the classification model perfomance while intragrating it into the training corpus before generating the words embedding. We note that CBOW is litte bit much better than Skip gram in many cases. This can be explained by the fact that Skip gram represents well even rare words or phrases and CBOW is slightly better accuracy for the frequent words."
      ]
    },
    {
      "cell_type": "markdown",
      "metadata": {
        "id": "U3Z3I8hVD477"
      },
      "source": [
        "# All preprocessing data"
      ]
    },
    {
      "cell_type": "code",
      "metadata": {
        "id": "L9XdhXZC4LHZ",
        "colab": {
          "base_uri": "https://localhost:8080/"
        },
        "outputId": "e3f7d8b3-4681-4df8-ec18-9c0511378a80"
      },
      "source": [
        "embedding_matrix = embeddings(path_emb + \"W-Skip-ALL.txt\")\n",
        "model, path = get_model(X_train, y_train, embedding_matrix, path.split(\"/\")[-1].split(\".\")[0])"
      ],
      "execution_count": null,
      "outputs": [
        {
          "output_type": "stream",
          "text": [
            "Epoch 1/10000\n",
            "282/282 [==============================] - 38s 17ms/step - loss: 0.6338 - acc: 0.6317 - val_loss: 0.5397 - val_acc: 0.7268\n",
            "\n",
            "Epoch 00001: val_acc improved from -inf to 0.72675, saving model to /content/drive/MyDrive/NLP/W-Skip-ALL.h5\n",
            "Epoch 2/10000\n",
            "282/282 [==============================] - 4s 14ms/step - loss: 0.5239 - acc: 0.7421 - val_loss: 0.5425 - val_acc: 0.7450\n",
            "\n",
            "Epoch 00002: val_acc improved from 0.72675 to 0.74500, saving model to /content/drive/MyDrive/NLP/W-Skip-ALL.h5\n",
            "Epoch 3/10000\n",
            "282/282 [==============================] - 4s 14ms/step - loss: 0.4912 - acc: 0.7630 - val_loss: 0.4985 - val_acc: 0.7490\n",
            "\n",
            "Epoch 00003: val_acc improved from 0.74500 to 0.74900, saving model to /content/drive/MyDrive/NLP/W-Skip-ALL.h5\n",
            "Epoch 4/10000\n",
            "282/282 [==============================] - 4s 14ms/step - loss: 0.4655 - acc: 0.7757 - val_loss: 0.4858 - val_acc: 0.7588\n",
            "\n",
            "Epoch 00004: val_acc improved from 0.74900 to 0.75875, saving model to /content/drive/MyDrive/NLP/W-Skip-ALL.h5\n",
            "Epoch 5/10000\n",
            "282/282 [==============================] - 4s 14ms/step - loss: 0.4520 - acc: 0.7878 - val_loss: 0.5533 - val_acc: 0.7415\n",
            "\n",
            "Epoch 00005: val_acc did not improve from 0.75875\n",
            "Epoch 6/10000\n",
            "282/282 [==============================] - 4s 15ms/step - loss: 0.4346 - acc: 0.8001 - val_loss: 0.4816 - val_acc: 0.7625\n",
            "\n",
            "Epoch 00006: val_acc improved from 0.75875 to 0.76250, saving model to /content/drive/MyDrive/NLP/W-Skip-ALL.h5\n",
            "Epoch 7/10000\n",
            "282/282 [==============================] - 4s 14ms/step - loss: 0.4236 - acc: 0.8019 - val_loss: 0.4569 - val_acc: 0.7807\n",
            "\n",
            "Epoch 00007: val_acc improved from 0.76250 to 0.78075, saving model to /content/drive/MyDrive/NLP/W-Skip-ALL.h5\n",
            "Epoch 8/10000\n",
            "282/282 [==============================] - 4s 14ms/step - loss: 0.4056 - acc: 0.8155 - val_loss: 0.4691 - val_acc: 0.7722\n",
            "\n",
            "Epoch 00008: val_acc did not improve from 0.78075\n",
            "Epoch 9/10000\n",
            "282/282 [==============================] - 4s 15ms/step - loss: 0.3828 - acc: 0.8301 - val_loss: 0.4951 - val_acc: 0.7807\n",
            "\n",
            "Epoch 00009: val_acc did not improve from 0.78075\n",
            "Epoch 10/10000\n",
            "282/282 [==============================] - 4s 14ms/step - loss: 0.3635 - acc: 0.8410 - val_loss: 0.4790 - val_acc: 0.7840\n",
            "\n",
            "Epoch 00010: val_acc improved from 0.78075 to 0.78400, saving model to /content/drive/MyDrive/NLP/W-Skip-ALL.h5\n",
            "Epoch 11/10000\n",
            "282/282 [==============================] - 4s 14ms/step - loss: 0.3426 - acc: 0.8519 - val_loss: 0.4869 - val_acc: 0.7887\n",
            "\n",
            "Epoch 00011: val_acc improved from 0.78400 to 0.78875, saving model to /content/drive/MyDrive/NLP/W-Skip-ALL.h5\n",
            "Epoch 12/10000\n",
            "282/282 [==============================] - 4s 14ms/step - loss: 0.3137 - acc: 0.8663 - val_loss: 0.4917 - val_acc: 0.7820\n",
            "\n",
            "Epoch 00012: val_acc did not improve from 0.78875\n",
            "Epoch 13/10000\n",
            "282/282 [==============================] - 4s 15ms/step - loss: 0.2996 - acc: 0.8727 - val_loss: 0.4793 - val_acc: 0.7738\n",
            "\n",
            "Epoch 00013: val_acc did not improve from 0.78875\n",
            "Epoch 14/10000\n",
            "282/282 [==============================] - 4s 14ms/step - loss: 0.2699 - acc: 0.8895 - val_loss: 0.5264 - val_acc: 0.7878\n",
            "\n",
            "Epoch 00014: val_acc did not improve from 0.78875\n",
            "Epoch 15/10000\n",
            "282/282 [==============================] - 4s 14ms/step - loss: 0.2481 - acc: 0.8986 - val_loss: 0.5058 - val_acc: 0.7862\n",
            "\n",
            "Epoch 00015: val_acc did not improve from 0.78875\n",
            "Epoch 16/10000\n",
            "282/282 [==============================] - 4s 14ms/step - loss: 0.2214 - acc: 0.9129 - val_loss: 0.5636 - val_acc: 0.7845\n",
            "\n",
            "Epoch 00016: val_acc did not improve from 0.78875\n",
            "Epoch 17/10000\n",
            "282/282 [==============================] - 4s 14ms/step - loss: 0.1966 - acc: 0.9232 - val_loss: 0.5571 - val_acc: 0.7820\n",
            "\n",
            "Epoch 00017: val_acc did not improve from 0.78875\n",
            "Epoch 00017: early stopping\n"
          ],
          "name": "stdout"
        }
      ]
    },
    {
      "cell_type": "code",
      "metadata": {
        "colab": {
          "base_uri": "https://localhost:8080/"
        },
        "id": "apgeynrGEJZG",
        "outputId": "a346ebe6-4e5f-4106-a4f4-59e21b89b539"
      },
      "source": [
        "eval_model(path)"
      ],
      "execution_count": null,
      "outputs": [
        {
          "output_type": "stream",
          "text": [
            "313/313 [==============================] - 2s 4ms/step\n",
            " 39/313 [==>...........................] - ETA: 1s"
          ],
          "name": "stdout"
        },
        {
          "output_type": "stream",
          "text": [
            "/usr/local/lib/python3.7/dist-packages/tensorflow/python/keras/engine/sequential.py:450: UserWarning: `model.predict_classes()` is deprecated and will be removed after 2021-01-01. Please use instead:* `np.argmax(model.predict(x), axis=-1)`,   if your model does multi-class classification   (e.g. if it uses a `softmax` last-layer activation).* `(model.predict(x) > 0.5).astype(\"int32\")`,   if your model does binary classification   (e.g. if it uses a `sigmoid` last-layer activation).\n",
            "  warnings.warn('`model.predict_classes()` is deprecated and '\n"
          ],
          "name": "stderr"
        },
        {
          "output_type": "stream",
          "text": [
            "313/313 [==============================] - 1s 4ms/step\n",
            "Accuracy: 0.798300\n",
            "Precision: 0.793057\n",
            "Recall: 0.811471\n",
            "F1 score: 0.802158\n"
          ],
          "name": "stdout"
        }
      ]
    },
    {
      "cell_type": "code",
      "metadata": {
        "colab": {
          "base_uri": "https://localhost:8080/"
        },
        "id": "WMj2bLCxEKoU",
        "outputId": "a7c924a9-73ba-4ea0-8136-883e64a6f369"
      },
      "source": [
        "embedding_matrix = embeddings(path_emb + \"W-CBOW-ALL.txt\")\n",
        "model, path = get_model(X_train, y_train, embedding_matrix, path.split(\"/\")[-1].split(\".\")[0])"
      ],
      "execution_count": null,
      "outputs": [
        {
          "output_type": "stream",
          "text": [
            "Epoch 1/10000\n",
            "282/282 [==============================] - 6s 16ms/step - loss: 0.6012 - acc: 0.6647 - val_loss: 0.5049 - val_acc: 0.7520\n",
            "\n",
            "Epoch 00001: val_acc improved from -inf to 0.75200, saving model to /content/drive/MyDrive/NLP/W-CBOW-ALL.h5\n",
            "Epoch 2/10000\n",
            "282/282 [==============================] - 4s 15ms/step - loss: 0.5007 - acc: 0.7562 - val_loss: 0.4873 - val_acc: 0.7615\n",
            "\n",
            "Epoch 00002: val_acc improved from 0.75200 to 0.76150, saving model to /content/drive/MyDrive/NLP/W-CBOW-ALL.h5\n",
            "Epoch 3/10000\n",
            "282/282 [==============================] - 4s 15ms/step - loss: 0.4696 - acc: 0.7804 - val_loss: 0.5089 - val_acc: 0.7550\n",
            "\n",
            "Epoch 00003: val_acc did not improve from 0.76150\n",
            "Epoch 4/10000\n",
            "282/282 [==============================] - 4s 15ms/step - loss: 0.4521 - acc: 0.7881 - val_loss: 0.4593 - val_acc: 0.7722\n",
            "\n",
            "Epoch 00004: val_acc improved from 0.76150 to 0.77225, saving model to /content/drive/MyDrive/NLP/W-CBOW-ALL.h5\n",
            "Epoch 5/10000\n",
            "282/282 [==============================] - 4s 15ms/step - loss: 0.4220 - acc: 0.8051 - val_loss: 0.4648 - val_acc: 0.7780\n",
            "\n",
            "Epoch 00005: val_acc improved from 0.77225 to 0.77800, saving model to /content/drive/MyDrive/NLP/W-CBOW-ALL.h5\n",
            "Epoch 6/10000\n",
            "282/282 [==============================] - 4s 15ms/step - loss: 0.4065 - acc: 0.8145 - val_loss: 0.4550 - val_acc: 0.7788\n",
            "\n",
            "Epoch 00006: val_acc improved from 0.77800 to 0.77875, saving model to /content/drive/MyDrive/NLP/W-CBOW-ALL.h5\n",
            "Epoch 7/10000\n",
            "282/282 [==============================] - 4s 15ms/step - loss: 0.3936 - acc: 0.8244 - val_loss: 0.4728 - val_acc: 0.7840\n",
            "\n",
            "Epoch 00007: val_acc improved from 0.77875 to 0.78400, saving model to /content/drive/MyDrive/NLP/W-CBOW-ALL.h5\n",
            "Epoch 8/10000\n",
            "282/282 [==============================] - 4s 15ms/step - loss: 0.3643 - acc: 0.8370 - val_loss: 0.4734 - val_acc: 0.7790\n",
            "\n",
            "Epoch 00008: val_acc did not improve from 0.78400\n",
            "Epoch 9/10000\n",
            "282/282 [==============================] - 4s 15ms/step - loss: 0.3338 - acc: 0.8529 - val_loss: 0.4625 - val_acc: 0.7857\n",
            "\n",
            "Epoch 00009: val_acc improved from 0.78400 to 0.78575, saving model to /content/drive/MyDrive/NLP/W-CBOW-ALL.h5\n",
            "Epoch 10/10000\n",
            "282/282 [==============================] - 4s 15ms/step - loss: 0.3211 - acc: 0.8616 - val_loss: 0.4970 - val_acc: 0.7880\n",
            "\n",
            "Epoch 00010: val_acc improved from 0.78575 to 0.78800, saving model to /content/drive/MyDrive/NLP/W-CBOW-ALL.h5\n",
            "Epoch 11/10000\n",
            "282/282 [==============================] - 4s 15ms/step - loss: 0.2971 - acc: 0.8754 - val_loss: 0.5495 - val_acc: 0.7885\n",
            "\n",
            "Epoch 00011: val_acc improved from 0.78800 to 0.78850, saving model to /content/drive/MyDrive/NLP/W-CBOW-ALL.h5\n",
            "Epoch 12/10000\n",
            "282/282 [==============================] - 5s 16ms/step - loss: 0.2657 - acc: 0.8913 - val_loss: 0.5411 - val_acc: 0.7890\n",
            "\n",
            "Epoch 00012: val_acc improved from 0.78850 to 0.78900, saving model to /content/drive/MyDrive/NLP/W-CBOW-ALL.h5\n",
            "Epoch 13/10000\n",
            "282/282 [==============================] - 4s 16ms/step - loss: 0.2266 - acc: 0.9093 - val_loss: 0.5573 - val_acc: 0.7933\n",
            "\n",
            "Epoch 00013: val_acc improved from 0.78900 to 0.79325, saving model to /content/drive/MyDrive/NLP/W-CBOW-ALL.h5\n",
            "Epoch 14/10000\n",
            "282/282 [==============================] - 4s 15ms/step - loss: 0.1943 - acc: 0.9250 - val_loss: 0.5640 - val_acc: 0.7678\n",
            "\n",
            "Epoch 00014: val_acc did not improve from 0.79325\n",
            "Epoch 15/10000\n",
            "282/282 [==============================] - 5s 16ms/step - loss: 0.1671 - acc: 0.9365 - val_loss: 0.6075 - val_acc: 0.7770\n",
            "\n",
            "Epoch 00015: val_acc did not improve from 0.79325\n",
            "Epoch 16/10000\n",
            "282/282 [==============================] - 4s 15ms/step - loss: 0.1431 - acc: 0.9475 - val_loss: 0.6793 - val_acc: 0.7812\n",
            "\n",
            "Epoch 00016: val_acc did not improve from 0.79325\n",
            "Epoch 00016: early stopping\n"
          ],
          "name": "stdout"
        }
      ]
    },
    {
      "cell_type": "code",
      "metadata": {
        "colab": {
          "base_uri": "https://localhost:8080/"
        },
        "id": "smQNsas3EMML",
        "outputId": "c8dc05ea-4a6c-4506-9259-7e19f655035c"
      },
      "source": [
        "eval_model(path)"
      ],
      "execution_count": null,
      "outputs": [
        {
          "output_type": "stream",
          "text": [
            "313/313 [==============================] - 2s 4ms/step\n",
            " 37/313 [==>...........................] - ETA: 1s"
          ],
          "name": "stdout"
        },
        {
          "output_type": "stream",
          "text": [
            "/usr/local/lib/python3.7/dist-packages/tensorflow/python/keras/engine/sequential.py:450: UserWarning: `model.predict_classes()` is deprecated and will be removed after 2021-01-01. Please use instead:* `np.argmax(model.predict(x), axis=-1)`,   if your model does multi-class classification   (e.g. if it uses a `softmax` last-layer activation).* `(model.predict(x) > 0.5).astype(\"int32\")`,   if your model does binary classification   (e.g. if it uses a `sigmoid` last-layer activation).\n",
            "  warnings.warn('`model.predict_classes()` is deprecated and '\n"
          ],
          "name": "stderr"
        },
        {
          "output_type": "stream",
          "text": [
            "313/313 [==============================] - 1s 4ms/step\n",
            "Accuracy: 0.790600\n",
            "Precision: 0.779465\n",
            "Recall: 0.815043\n",
            "F1 score: 0.796857\n"
          ],
          "name": "stdout"
        }
      ]
    },
    {
      "cell_type": "code",
      "metadata": {
        "colab": {
          "base_uri": "https://localhost:8080/",
          "height": 343
        },
        "id": "iOgk5_cu3_rC",
        "outputId": "30b94bc5-d3ba-40d8-b81b-a0f640511c64"
      },
      "source": [
        "results = pd.read_csv('F1_score_results.csv',index_col=0)\n",
        "results"
      ],
      "execution_count": 4,
      "outputs": [
        {
          "output_type": "execute_result",
          "data": {
            "text/html": [
              "<div>\n",
              "<style scoped>\n",
              "    .dataframe tbody tr th:only-of-type {\n",
              "        vertical-align: middle;\n",
              "    }\n",
              "\n",
              "    .dataframe tbody tr th {\n",
              "        vertical-align: top;\n",
              "    }\n",
              "\n",
              "    .dataframe thead th {\n",
              "        text-align: right;\n",
              "    }\n",
              "</style>\n",
              "<table border=\"1\" class=\"dataframe\">\n",
              "  <thead>\n",
              "    <tr style=\"text-align: right;\">\n",
              "      <th></th>\n",
              "      <th>technique</th>\n",
              "      <th>Score</th>\n",
              "      <th>Model</th>\n",
              "    </tr>\n",
              "  </thead>\n",
              "  <tbody>\n",
              "    <tr>\n",
              "      <th>0</th>\n",
              "      <td>stem</td>\n",
              "      <td>0.825123</td>\n",
              "      <td>Skip-gram</td>\n",
              "    </tr>\n",
              "    <tr>\n",
              "      <th>1</th>\n",
              "      <td>stem</td>\n",
              "      <td>0.825753</td>\n",
              "      <td>CBOW</td>\n",
              "    </tr>\n",
              "    <tr>\n",
              "      <th>2</th>\n",
              "      <td>punc</td>\n",
              "      <td>0.867779</td>\n",
              "      <td>Skip-gram</td>\n",
              "    </tr>\n",
              "    <tr>\n",
              "      <th>3</th>\n",
              "      <td>punc</td>\n",
              "      <td>0.856397</td>\n",
              "      <td>CBOW</td>\n",
              "    </tr>\n",
              "    <tr>\n",
              "      <th>4</th>\n",
              "      <td>stop</td>\n",
              "      <td>0.843573</td>\n",
              "      <td>Skip-gram</td>\n",
              "    </tr>\n",
              "    <tr>\n",
              "      <th>5</th>\n",
              "      <td>stop</td>\n",
              "      <td>0.837523</td>\n",
              "      <td>CBOW</td>\n",
              "    </tr>\n",
              "    <tr>\n",
              "      <th>6</th>\n",
              "      <td>post-tag</td>\n",
              "      <td>0.857693</td>\n",
              "      <td>Skip-gram</td>\n",
              "    </tr>\n",
              "    <tr>\n",
              "      <th>7</th>\n",
              "      <td>post-tag</td>\n",
              "      <td>0.858478</td>\n",
              "      <td>CBOW</td>\n",
              "    </tr>\n",
              "    <tr>\n",
              "      <th>8</th>\n",
              "      <td>All</td>\n",
              "      <td>0.802158</td>\n",
              "      <td>Skip-gram</td>\n",
              "    </tr>\n",
              "    <tr>\n",
              "      <th>9</th>\n",
              "      <td>All</td>\n",
              "      <td>0.796857</td>\n",
              "      <td>CBOW</td>\n",
              "    </tr>\n",
              "  </tbody>\n",
              "</table>\n",
              "</div>"
            ],
            "text/plain": [
              "  technique     Score      Model\n",
              "0      stem  0.825123  Skip-gram\n",
              "1      stem  0.825753       CBOW\n",
              "2      punc  0.867779  Skip-gram\n",
              "3      punc  0.856397       CBOW\n",
              "4      stop  0.843573  Skip-gram\n",
              "5      stop  0.837523       CBOW\n",
              "6  post-tag  0.857693  Skip-gram\n",
              "7  post-tag  0.858478       CBOW\n",
              "8       All  0.802158  Skip-gram\n",
              "9       All  0.796857       CBOW"
            ]
          },
          "metadata": {
            "tags": []
          },
          "execution_count": 4
        }
      ]
    },
    {
      "cell_type": "code",
      "metadata": {
        "colab": {
          "base_uri": "https://localhost:8080/",
          "height": 534
        },
        "id": "n2qOW3qe4Y4S",
        "outputId": "64a0c816-337c-4cf1-df26-00d1caef3352"
      },
      "source": [
        "import seaborn as sns\n",
        "import matplotlib.pyplot as plt\n",
        "\n",
        "f, ax = plt.subplots(figsize=(15,8))\n",
        "sns.set_context(\"notebook\", font_scale=1.1, rc={\"lines.linewidth\": 2.5})\n",
        "sns.set_style(\"whitegrid\")\n",
        "g = sns.barplot(x=\"technique\", y=\"Score\", hue=\"Model\", data=results)\n",
        "for p in g.patches:\n",
        "    g.annotate(format(p.get_height(), '.3f'), \n",
        "                   (p.get_x() + p.get_width() / 2., p.get_height()), \n",
        "                   ha = 'center', va = 'center', \n",
        "                   xytext = (0, 9), \n",
        "                   textcoords = 'offset points')\n",
        "plt.title(\"The effect of text processing tools on the classification models performance\",size=18)"
      ],
      "execution_count": 6,
      "outputs": [
        {
          "output_type": "execute_result",
          "data": {
            "text/plain": [
              "Text(0.5, 1.0, 'The effect of text processing tools on the classification models performance')"
            ]
          },
          "metadata": {
            "tags": []
          },
          "execution_count": 6
        },
        {
          "output_type": "display_data",
          "data": {
            "image/png": "[encoded data removed]",
            "text/plain": [
              "<Figure size 1080x576 with 1 Axes>"
            ]
          },
          "metadata": {
            "tags": [],
            "needs_background": "light"
          }
        }
      ]
    },
    {
      "cell_type": "markdown",
      "metadata": {
        "id": "toHNpCpY4eji"
      },
      "source": [
        "The figure above shows the effectiveness of using each processing technique earlier on the training corpus before learning the word embeddings with CBOW and Skip-gram. As we can see, applying all the tools together harm the classification models perfomance. So the choice of the right combination depend on the affective task. Among all the factors, Stemming and Stopword removal are the worse ones which demonstrated previously in the paper. "
      ]
    }
  ]
}
